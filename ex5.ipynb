{
 "cells": [
  {
   "cell_type": "code",
   "execution_count": 1,
   "metadata": {},
   "outputs": [],
   "source": [
    "import matplotlib.pyplot as plt\n",
    "import random\n",
    "import time\n",
    "import numpy as np\n",
    "from scipy.optimize import curve_fit"
   ]
  },
  {
   "cell_type": "markdown",
   "metadata": {},
   "source": [
    "## \"Traditional\" Insertion Sort"
   ]
  },
  {
   "cell_type": "code",
   "execution_count": 2,
   "metadata": {},
   "outputs": [],
   "source": [
    "def insertion_sort(arr):\n",
    "    n = len(arr)  # Get the length of the array\n",
    "      \n",
    "    if n <= 1:\n",
    "        return  # If the array has 0 or 1 element, it is already sorted, so return\n",
    " \n",
    "    for i in range(1, n):  # Iterate over the array starting from the second element\n",
    "        key = arr[i]  # Store the current element as the key to be inserted in the right position\n",
    "        j = i-1\n",
    "        while j >= 0 and key < arr[j]:  # Move elements greater than key one position ahead\n",
    "            arr[j+1] = arr[j]  # Shift elements to the right\n",
    "            j -= 1\n",
    "        arr[j+1] = key  # Insert the key in the correct position"
   ]
  },
  {
   "cell_type": "code",
   "execution_count": 3,
   "metadata": {},
   "outputs": [],
   "source": [
    "a = [5, 4, 6, 7, 9]\n",
    "insertion_sort(a)"
   ]
  },
  {
   "cell_type": "code",
   "execution_count": 4,
   "metadata": {},
   "outputs": [
    {
     "data": {
      "text/plain": [
       "[4, 5, 6, 7, 9]"
      ]
     },
     "execution_count": 4,
     "metadata": {},
     "output_type": "execute_result"
    }
   ],
   "source": [
    "a"
   ]
  },
  {
   "cell_type": "markdown",
   "metadata": {},
   "source": [
    "## Binary Insertion Sort"
   ]
  },
  {
   "cell_type": "markdown",
   "metadata": {},
   "source": [
    "## Creating array sizes"
   ]
  },
  {
   "cell_type": "markdown",
   "metadata": {},
   "source": [
    "## Measure Insertion Sort"
   ]
  },
  {
   "cell_type": "code",
   "execution_count": null,
   "metadata": {},
   "outputs": [],
   "source": [
    "insertion_sort_times = []\n",
    "for size in array_sizes:\n",
    "    insertion_sort_times.append(measureInsertionSort(size))\n",
    "\n",
    "binary_insertion_sort_times = []\n",
    "for size in array_sizes:\n",
    "    binary_insertion_sort_times.append(measureBinaryInsertionSort(size))"
   ]
  },
  {
   "cell_type": "code",
   "execution_count": 12,
   "metadata": {},
   "outputs": [],
   "source": [
    "def n_squared_model(x, a, b):\n",
    "    return a * x ** 2 + b\n",
    "\n",
    "params_insertion, _ = curve_fit(n_squared_model, array_sizes, insertion_sort_times)\n",
    "params_binary_insertion, _ = curve_fit(n_squared_model, array_sizes, binary_insertion_sort_times)"
   ]
  },
  {
   "cell_type": "markdown",
   "metadata": {},
   "source": [
    "Binary Insertion Sort (BIS) and Traditional Insertion Sort (TIS) take about the same time. Even though BIS utilizes Binary Search as a means to try to optimize the function, it's only a search. Consequently, the BIS algorithm still has to insert the key into the found spot which involves shifting all the elements to the right, an O(n) operation. This leads to BIS having a complexity of O(n^2), the same as TIS."
   ]
  }
 ],
 "metadata": {
  "kernelspec": {
   "display_name": "base",
   "language": "python",
   "name": "python3"
  },
  "language_info": {
   "codemirror_mode": {
    "name": "ipython",
    "version": 3
   },
   "file_extension": ".py",
   "mimetype": "text/x-python",
   "name": "python",
   "nbconvert_exporter": "python",
   "pygments_lexer": "ipython3",
   "version": "3.11.5"
  }
 },
 "nbformat": 4,
 "nbformat_minor": 2
}
