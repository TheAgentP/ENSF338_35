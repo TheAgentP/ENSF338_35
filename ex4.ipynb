{
 "cells": [
  {
   "cell_type": "code",
   "execution_count": null,
   "metadata": {},
   "outputs": [],
   "source": [
    "array_sizes = [i ** 2 for i in range(0,20)]\n",
    "array_sizes\n"
   ]
  },
  {
   "cell_type": "code",
   "execution_count": null,
   "metadata": {},
   "outputs": [],
   "source": [
    "times = []\n",
    "for size in array_sizes:\n",
    "    times.append(measureQuickSortTime(size))\n",
    "times"
   ]
  },
  {
   "cell_type": "code",
   "execution_count": null,
   "metadata": {},
   "outputs": [],
   "source": [
    "import numpy as np\n",
    "from scipy.optimize import curve_fit\n",
    "\n",
    "def n_squared_model(x, a, b):\n",
    "    return a * x ** 2 + b\n",
    "\n",
    "params_quick, _ = curve_fit(n_squared_model, array_sizes, times)"
   ]
  },
  {
   "cell_type": "code",
   "execution_count": null,
   "metadata": {},
   "outputs": [],
   "source": [
    "import matplotlib.pyplot as plt\n",
    "fig, axs = plt.subplots(nrows=1, ncols=1, figsize= (10, 5))\n",
    "\n",
    "quick = axs\n",
    "\n",
    "quick.scatter(array_sizes, times, label='QuickSort', color='g')\n",
    "quick.plot(array_sizes, n_squared_model(np.array(array_sizes), *params_quick), label='QuickSort Sort Line', color='g')\n",
    "\n",
    "quick.set_title('QuickSort Times')\n",
    "quick.set_xlabel('Array Size')\n",
    "quick.set_ylabel('Time (Seconds)')\n",
    "\n",
    "quick.legend()\n",
    "\n",
    "plt.tight_layout()\n",
    "plt.show()"
   ]
  },
  {
   "cell_type": "code",
   "execution_count": null,
   "metadata": {},
   "outputs": [],
   "source": []
  },
  {
   "cell_type": "markdown",
   "metadata": {},
   "source": []
  },
  {
   "cell_type": "markdown",
   "metadata": {},
   "source": []
  },
  {
   "cell_type": "markdown",
   "metadata": {},
   "source": []
  },
  {
   "cell_type": "code",
   "execution_count": null,
   "metadata": {},
   "outputs": [],
   "source": [
    "import sys\n",
    "sys.setrecursionlimit(20000)"
   ]
  },
  {
   "cell_type": "code",
   "execution_count": null,
   "metadata": {},
   "outputs": [],
   "source": [
    "# Python program for implementation of Quicksort Sort\n",
    "\n",
    "# This implementation utilizes pivot as the last element in the nums list\n",
    "# It has a pointer to keep track of the elements smaller than the pivot\n",
    "# At the very end of partition() function, the pointer is swapped with the pivot\n",
    "# to come up with a \"sorted\" nums relative to the pivot\n",
    "def partition(array, low, high):\n",
    "    # curr = low\n",
    "    # while(curr < high):\n",
    "    #     print(f\"[{array[curr]}]\", end=\"\")\n",
    "    #     curr += 1\n",
    "    # print(\"\")\n",
    "    # choose the rightmost element as pivot\n",
    "    pivot = array[high]   \n",
    "    # pointer for greater element\n",
    "    i = low - 1\n",
    "    # traverse through all elements\n",
    "    # compare each element with pivot\n",
    "    for j in range(low, high):\n",
    "        if array[j] <= pivot:\n",
    " \n",
    "            # If element smaller than pivot is found\n",
    "            # swap it with the greater element pointed by i\n",
    "            i = i + 1\n",
    " \n",
    "            # Swapping element at i with element at j\n",
    "            (array[i], array[j]) = (array[j], array[i])\n",
    " \n",
    "    # Swap the pivot element with the greater element specified by i\n",
    "    (array[i + 1], array[high]) = (array[high], array[i + 1])\n",
    " \n",
    "    # Return the position from where partition is done\n",
    "    return i + 1\n",
    "\n",
    "# function to perform quicksort\n",
    "\n",
    "def quicksort(array, low, high):\n",
    "    if low < high:\n",
    "        \n",
    "        # Find pivot element such that\n",
    "        # element smaller than pivot are on the left\n",
    "        # element greater than pivot are on the right\n",
    "        pi = partition(array, low, high)\n",
    "        # Recursive call on the left of pivot\n",
    "        quicksort(array, low, pi - 1)\n",
    " \n",
    "        # Recursive call on the right of pivot\n",
    "        quicksort(array, pi + 1, high)"
   ]
  },
  {
   "cell_type": "code",
   "execution_count": null,
   "metadata": {},
   "outputs": [],
   "source": [
    "# Vector of 16 Elements which incurs worst case:\n",
    "a = list(range(0,16))\n",
    "a.reverse()\n",
    "a\n"
   ]
  },
  {
   "cell_type": "code",
   "execution_count": null,
   "metadata": {},
   "outputs": [],
   "source": [
    "quicksort(a, 0, len(a) - 1)\n",
    "a"
   ]
  },
  {
   "cell_type": "code",
   "execution_count": null,
   "metadata": {},
   "outputs": [],
   "source": [
    "import time\n",
    "def measureQuickSortTime(array_size):\n",
    "    \n",
    "    # Creates a Reversed Array from 0 to N.\n",
    "    array = list(range(0, array_size))\n",
    "    array.reverse()\n",
    "    \n",
    "    # Start Timer\n",
    "    start = time.perf_counter()\n",
    "    quicksort(array, 0, len(array) - 1)\n",
    "    # Stop Timer\n",
    "    stop = time.perf_counter()\n",
    "    \n",
    "    # Get Time\n",
    "    avg_time = stop - start\n",
    "    \n",
    "    # DEBUG\n",
    "    # print(f\"For an array size of {array_size}, average quick_sort takes {avg_time} seconds\")\n",
    "    # print(array)\n",
    "    return avg_time"
   ]
  }
 ],
 "metadata": {
  "kernelspec": {
   "display_name": "base",
   "language": "python",
   "name": "python3"
  },
  "language_info": {
   "codemirror_mode": {
    "name": "ipython",
    "version": 3
   },
   "file_extension": ".py",
   "mimetype": "text/x-python",
   "name": "python",
   "nbconvert_exporter": "python",
   "pygments_lexer": "ipython3",
   "version": "3.11.5"
  }
 },
 "nbformat": 4,
 "nbformat_minor": 2
}
