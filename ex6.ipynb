{
 "cells": [
  {
   "cell_type": "code",
   "execution_count": null,
   "metadata": {},
   "outputs": [],
   "source": [
    "import matplotlib.pyplot as plt\n",
    "import random\n",
    "import time\n",
    "import numpy as np\n",
    "from scipy.optimize import curve_fit\n",
    "from statistics import mean"
   ]
  },
  {
   "cell_type": "markdown",
   "metadata": {},
   "source": [
    "# Linear Search"
   ]
  },
  {
   "cell_type": "code",
   "execution_count": null,
   "metadata": {},
   "outputs": [],
   "source": [
    "def linear_search(arr, x):\n",
    "    for i in range(len(arr)):\n",
    "        if arr[i] == x:\n",
    "            return i\n",
    "    return -1\n",
    "\n",
    "def linear_time(array_size, random_elements):\n",
    "    linear_times = []\n",
    "    # Creates an Array of Appropriate Size and Shuffles It\n",
    "    array = list(range(0,array_size))\n",
    "    random.shuffle(array)\n",
    "    \n",
    "    # Gets a list of times\n",
    "    for i in range(0, len(random_elements) - 1):\n",
    "        start = time.perf_counter()\n",
    "        linear_search(array, random_elements[i])\n",
    "        end = time.perf_counter()\n",
    "        linear_times.append(end - start)\n",
    "        random.shuffle(array)\n",
    "    timed = mean(linear_times)\n",
    "    return timed"
   ]
  },
  {
   "cell_type": "markdown",
   "metadata": {},
   "source": [
    "## Binary Search"
   ]
  },
  {
   "cell_type": "code",
   "execution_count": null,
   "metadata": {},
   "outputs": [],
   "source": []
  },
  {
   "cell_type": "markdown",
   "metadata": {},
   "source": [
    "## Quick Sort"
   ]
  },
  {
   "cell_type": "code",
   "execution_count": null,
   "metadata": {},
   "outputs": [],
   "source": []
  },
  {
   "cell_type": "markdown",
   "metadata": {},
   "source": [
    "# 100 Random Tasks"
   ]
  },
  {
   "cell_type": "code",
   "execution_count": 18,
   "metadata": {},
   "outputs": [
    {
     "data": {
      "text/plain": [
       "[1.41111094207089e-06,\n",
       " 1.0555551044591184e-06,\n",
       " 1.7999999626125727e-06,\n",
       " 2.266666948950539e-06,\n",
       " 3.244444087613374e-06,\n",
       " 6.955555565784582e-06,\n",
       " 1.8855556037225244e-05,\n",
       " 4.007777816797089e-05,\n",
       " 6.775555609945311e-05,\n",
       " 0.00022540000079768815]"
      ]
     },
     "execution_count": 18,
     "metadata": {},
     "output_type": "execute_result"
    }
   ],
   "source": [
    "import random\n",
    "import time\n",
    "\n",
    "# random_elements is a list of 10 elements which can have values from 0 to 99\n",
    "random_elements = random.sample(range(0,100), 10)\n",
    "\n",
    "linear_times = []\n",
    "\n",
    "array_sizes = [10, 20, 50, 100, 200, 500, 1000, 2000, 5000, 10000]\n",
    "\n",
    "array_times = []\n",
    "\n",
    "for i in array_sizes:\n",
    "    array_times.append(linear_time(i, random_elements))\n",
    "\n",
    "array_times"
   ]
  },
  {
   "cell_type": "code",
   "execution_count": 12,
   "metadata": {},
   "outputs": [
    {
     "data": {
      "text/plain": [
       "[8.290000187116675e-05,\n",
       " 7.100003131199628e-06,\n",
       " 7.90000194683671e-06,\n",
       " 4.999998054699972e-06,\n",
       " 6.500002200482413e-06,\n",
       " 6.899997970322147e-06,\n",
       " 8.900002285372466e-06,\n",
       " 1.8599999748403206e-05,\n",
       " 7.599999662488699e-06]"
      ]
     },
     "execution_count": 12,
     "metadata": {},
     "output_type": "execute_result"
    }
   ],
   "source": [
    "linear_times"
   ]
  },
  {
   "cell_type": "code",
   "execution_count": 14,
   "metadata": {},
   "outputs": [
    {
     "data": {
      "text/plain": [
       "[74, 55, 91, 60, 85, 14, 8, 67, 36, 3]"
      ]
     },
     "execution_count": 14,
     "metadata": {},
     "output_type": "execute_result"
    }
   ],
   "source": [
    "random_elements"
   ]
  }
 ],
 "metadata": {
  "kernelspec": {
   "display_name": "Python 3 (ipykernel)",
   "language": "python",
   "name": "python3"
  },
  "language_info": {
   "codemirror_mode": {
    "name": "ipython",
    "version": 3
   },
   "file_extension": ".py",
   "mimetype": "text/x-python",
   "name": "python",
   "nbconvert_exporter": "python",
   "pygments_lexer": "ipython3",
   "version": "3.11.5"
  }
 },
 "nbformat": 4,
 "nbformat_minor": 2
}
