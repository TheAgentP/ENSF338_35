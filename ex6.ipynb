{
 "cells": [
  {
   "cell_type": "code",
   "execution_count": 17,
   "metadata": {},
   "outputs": [],
   "source": [
    "import matplotlib.pyplot as plt\n",
    "import random\n",
    "import time\n",
    "import numpy as np\n",
    "from scipy.optimize import curve_fit\n",
    "from statistics import mean\n",
    "import sys\n",
    "sys.setrecursionlimit(20000)"
   ]
  },
  {
   "cell_type": "markdown",
   "metadata": {},
   "source": [
    "## Linear Search"
   ]
  },
  {
   "cell_type": "code",
   "execution_count": 18,
   "metadata": {},
   "outputs": [],
   "source": [
    "def linear_search(arr, x):\n",
    "    for i in range(len(arr)):\n",
    "        if arr[i] == x:\n",
    "            return i\n",
    "    return -1"
   ]
  },
  {
   "cell_type": "markdown",
   "metadata": {},
   "source": [
    "## Binary Search"
   ]
  },
  {
   "cell_type": "code",
   "execution_count": 19,
   "metadata": {},
   "outputs": [],
   "source": [
    "def binary_search(arr, low, high, key):\n",
    " \n",
    "    # Check base case\n",
    "    if high >= low:\n",
    "        mid = (high + low) // 2\n",
    "        \n",
    "        # If element is present at the middle itself\n",
    "        if arr[mid] == key:\n",
    "            return mid\n",
    "        # be present in left subarray\n",
    "        elif arr[mid] > key:\n",
    "            return binary_search(arr, low, mid - 1, key)\n",
    "        else:\n",
    "            return binary_search(arr, mid + 1, high, key)\n",
    "    else:\n",
    "        return -1"
   ]
  },
  {
   "cell_type": "markdown",
   "metadata": {},
   "source": [
    "#### Testing Binary Search"
   ]
  },
  {
   "cell_type": "code",
   "execution_count": 20,
   "metadata": {},
   "outputs": [
    {
     "name": "stdout",
     "output_type": "stream",
     "text": [
      "0 1 2 3 4 5 6 7 8 9 \n",
      "index of 6 is 6\n"
     ]
    }
   ],
   "source": [
    "import random\n",
    "array = list(range(0,10))\n",
    "\n",
    "for i in array:\n",
    "    print(i, end=\" \")\n",
    "\n",
    "key = random.randint(0, len(array) - 1)\n",
    "\n",
    "index = binary_search(array, 0, len(array) - 1, key)\n",
    "# want to get the index of 7\n",
    "print(f\"\\nindex of {key} is {index}\")\n"
   ]
  },
  {
   "cell_type": "markdown",
   "metadata": {},
   "source": [
    "## Quick Sort"
   ]
  },
  {
   "cell_type": "code",
   "execution_count": 21,
   "metadata": {},
   "outputs": [],
   "source": [
    "def partition(array, low, high):\n",
    "    \n",
    "    pivot = array[high]\n",
    "    \n",
    "    i = low - 1\n",
    "\n",
    "    for j in range(low, high):\n",
    "        if array[j] <= pivot:\n",
    "\n",
    "            i = i + 1\n",
    " \n",
    "            (array[i], array[j]) = (array[j], array[i])\n",
    "\n",
    "    (array[i + 1], array[high]) = (array[high], array[i + 1])\n",
    " \n",
    "    return i + 1\n",
    "  \n",
    "def quickSort(array, low, high):\n",
    "    if low < high:\n",
    " \n",
    "        pi = partition(array, low, high)\n",
    " \n",
    "        quickSort(array, low, pi - 1)\n",
    "        \n",
    "        quickSort(array, pi + 1, high)\n"
   ]
  },
  {
   "cell_type": "markdown",
   "metadata": {},
   "source": [
    "#### Testing Quick Sort"
   ]
  },
  {
   "cell_type": "code",
   "execution_count": 22,
   "metadata": {},
   "outputs": [
    {
     "name": "stdout",
     "output_type": "stream",
     "text": [
      "Original Array:\n",
      "[0] [8] [11] [16] [17] [4] [9] [1] [19] [7] [12] [14] [10] [3] [13] [2] [15] [6] [18] [5] \n",
      "\n",
      "Sorted Array:\n",
      "[0] [1] [2] [3] [4] [5] [6] [7] [8] [9] [10] [11] [12] [13] [14] [15] [16] [17] [18] [19] "
     ]
    }
   ],
   "source": [
    "import random\n",
    "array = list(range(0,20))\n",
    "random.shuffle(array)\n",
    "\n",
    "print(\"Original Array:\")\n",
    "for i in array:\n",
    "    print(f'[{i}]', end=\" \")\n",
    "\n",
    "print(\"\\n\\nSorted Array:\")\n",
    "\n",
    "quickSort(array, 0, len(array) - 1)\n",
    "for i in array:\n",
    "    print(f'[{i}]', end=\" \")"
   ]
  },
  {
   "cell_type": "markdown",
   "metadata": {},
   "source": [
    "# Three Different Algorithms \n",
    "### (Linear Search) vs (QuickSort + Binary Search) vs (Worse Case QuickSort and Binary Search)"
   ]
  },
  {
   "cell_type": "code",
   "execution_count": 23,
   "metadata": {},
   "outputs": [],
   "source": [
    "\n",
    "from statistics import mean\n",
    "def linear_time(array_size, key):\n",
    "    linear_times = []\n",
    "    # Creates an Array of Appropriate Size and Shuffles It\n",
    "    array = list(range(0,array_size))\n",
    "    random.shuffle(array)\n",
    "    \n",
    "    # Gets a list of times\n",
    "    for _ in range(0, 100):\n",
    "        start = time.perf_counter()\n",
    "        linear_search(array, key)\n",
    "        end = time.perf_counter()\n",
    "        linear_times.append(end - start)\n",
    "        random.shuffle(array)\n",
    "    return mean(linear_times)\n",
    "\n",
    "def quickBinarySearch(array_size, key):\n",
    "    quickb_times = []\n",
    "    \n",
    "    # Creates an Array of Appropriate Size and Shuffles It\n",
    "    array = list(range(0, array_size))\n",
    "    random.shuffle(array)\n",
    "\n",
    "    for _ in range(0, 100):\n",
    "        start = time.perf_counter()\n",
    "        quickSort(array, 0, len(array) - 1)\n",
    "        # DEBUG\n",
    "        # print(array)\n",
    "        # print(f\"Found {key} at {binary_search(array, 0, len(array) - 1, key)}\")\n",
    "        binary_search(array, 0, len(array) - 1, key)\n",
    "        end = time.perf_counter()\n",
    "        quickb_times.append(end - start)\n",
    "        random.shuffle(array)\n",
    "    return mean(quickb_times)\n",
    "\n",
    "def worstBinarySearch(array_size, key):\n",
    "    worstb_times = []\n",
    "    \n",
    "    array = list(range(0, array_size))\n",
    "    array.reverse()\n",
    "    \n",
    "    for _ in range(0, 100):\n",
    "        start = time.perf_counter()\n",
    "        quickSort(array, 0, len(array) - 1)\n",
    "        binary_search(array, 0, len(array) - 1, key)\n",
    "        end = time.perf_counter()\n",
    "        # DEBUG\n",
    "        # print(array)\n",
    "        worstb_times.append(end - start)\n",
    "        random.shuffle(array)\n",
    "    return mean(worstb_times)\n",
    "    "
   ]
  },
  {
   "cell_type": "markdown",
   "metadata": {},
   "source": [
    "# 100 Random Tasks"
   ]
  },
  {
   "cell_type": "code",
   "execution_count": 24,
   "metadata": {},
   "outputs": [],
   "source": [
    "import random\n",
    "import time\n",
    "\n",
    "array_sizes = [10, 20, 50, 100, 200, 500, 1000, 2000, 5000, 10000]\n",
    "# array_sizes = [i ** 2 for i in range(1, 100)] # DEBUG\n",
    "key = 7\n",
    "\n",
    "linearSearch_times = []\n",
    "quickBinary_times = []\n",
    "\n",
    "for i in array_sizes:\n",
    "    linearSearch_times.append(linear_time(i, key))\n",
    "\n",
    "for i in array_sizes:\n",
    "    quickBinary_times.append(quickBinarySearch(i, key))\n",
    "\n",
    "# DEBUG\n",
    "# quickBinarySearch(20, 7)"
   ]
  },
  {
   "cell_type": "code",
   "execution_count": 25,
   "metadata": {},
   "outputs": [
    {
     "data": {
      "text/plain": [
       "[1.2620001871255225e-06,\n",
       " 1.113000289478805e-06,\n",
       " 7.899997945060022e-07,\n",
       " 1.3729998681810685e-06,\n",
       " 2.5410000307601877e-06,\n",
       " 6.199999988893978e-06,\n",
       " 1.9983999991382006e-05,\n",
       " 3.619599981902866e-05,\n",
       " 8.264000003691762e-05,\n",
       " 0.0001692749998619547]"
      ]
     },
     "execution_count": 25,
     "metadata": {},
     "output_type": "execute_result"
    }
   ],
   "source": [
    "linearSearch_times"
   ]
  },
  {
   "cell_type": "code",
   "execution_count": 26,
   "metadata": {},
   "outputs": [
    {
     "data": {
      "text/plain": [
       "[4.917999940516893e-06,\n",
       " 1.063700005033752e-05,\n",
       " 2.7192999878025147e-05,\n",
       " 5.8913999928336126e-05,\n",
       " 0.00015022500010672957,\n",
       " 0.00047420700026123085,\n",
       " 0.001246223999914946,\n",
       " 0.0022004519998154136,\n",
       " 0.005247652999896673,\n",
       " 0.011649264999941806]"
      ]
     },
     "execution_count": 26,
     "metadata": {},
     "output_type": "execute_result"
    }
   ],
   "source": [
    "quickBinary_times"
   ]
  },
  {
   "cell_type": "markdown",
   "metadata": {},
   "source": [
    "## Curve Fitting"
   ]
  },
  {
   "cell_type": "code",
   "execution_count": 31,
   "metadata": {},
   "outputs": [],
   "source": [
    "# Curve fitting\n",
    "def linear_model(x, a, b):\n",
    "    return a * x + b\n",
    "\n",
    "def n_squared_model(x, a, b):\n",
    "    return a * x ** 2 + b\n",
    "\n",
    "def n_log_n_model(x, a, b):\n",
    "    return a * (x * np.log(x * b))\n",
    "\n",
    "params_linear, _ = curve_fit(linear_model, array_sizes, linearSearch_times)\n",
    "params_quick_binary, _ = curve_fit(n_log_n_model, array_sizes, quickBinary_times)"
   ]
  },
  {
   "cell_type": "markdown",
   "metadata": {},
   "source": [
    "## Plotting"
   ]
  },
  {
   "cell_type": "code",
   "execution_count": 32,
   "metadata": {},
   "outputs": [
    {
     "data": {
      "image/png": "[encoded data removed]",
      "text/plain": [
       "<Figure size 1500x500 with 2 Axes>"
      ]
     },
     "metadata": {},
     "output_type": "display_data"
    }
   ],
   "source": [
    "fig, axs = plt.subplots(nrows=1, ncols=2, figsize= (15, 5))\n",
    "\n",
    "linear = axs[0]\n",
    "quickbinary = axs[1]\n",
    "\n",
    "# Plotting insertion sorts\n",
    "linear.scatter(array_sizes, linearSearch_times, label= 'Linear Times', color= 'red')\n",
    "linear.plot(array_sizes, linear_model(np.array(array_sizes), *params_linear), label= 'Linear Search line', color= 'red')\n",
    "\n",
    "quickbinary.scatter(array_sizes, quickBinary_times, label= 'Quick Sort & Binary Times', color= 'blue')\n",
    "quickbinary.plot(array_sizes, n_log_n_model(np.array(array_sizes), *params_quick_binary), label= 'Quick Sort & Binary Search line', color= 'blue')\n",
    "\n",
    "linear.set_title('Plot of Linear Search')\n",
    "linear.set_xlabel(\"Array Size\")\n",
    "linear.set_ylabel(\"Time (seconds)\")\n",
    "\n",
    "quickbinary.set_title('Plot of Quick Sort and Binary Search')\n",
    "quickbinary.set_xlabel(\"Array Size\")\n",
    "quickbinary.set_ylabel(\"Time (seconds)\")\n",
    "\n",
    "linear.legend()\n",
    "quickbinary.legend()\n",
    "\n",
    "plt.tight_layout()\n",
    "plt.show()"
   ]
  },
  {
   "cell_type": "markdown",
   "metadata": {},
   "source": [
    "## Question 4"
   ]
  },
  {
   "cell_type": "markdown",
   "metadata": {},
   "source": [
    "The Linear Search has a standard O(n) complexity. In our findings, the combination of Quick Sort and Binary Search has a best fit line that matches O(n log(n)). This coincides with the average case complexity for a Quick Sort. However, as seen from the plots, linear search is a lot faster because it doesn't have to sort prior to searching the array."
   ]
  },
  {
   "cell_type": "markdown",
   "metadata": {},
   "source": [
    "## Question 5, Worst Case for QuickSort"
   ]
  },
  {
   "cell_type": "code",
   "execution_count": null,
   "metadata": {},
   "outputs": [],
   "source": [
    "import random\n",
    "import time\n",
    "\n",
    "array_sizes = [10, 20, 50, 100, 200, 500, 1000, 2000, 5000, 10000]\n",
    "# array_sizes = [i ** 2 for i in range(100)] # DEBUG\n",
    "key = 7\n",
    "\n",
    "worstBinary_times = []\n",
    "\n",
    "for i in array_sizes:\n",
    "    worstBinary_times.append(worstBinarySearch(i, key))\n",
    "\n",
    "worstBinary_times"
   ]
  },
  {
   "cell_type": "markdown",
   "metadata": {},
   "source": [
    "## Curve Fitting"
   ]
  },
  {
   "cell_type": "code",
   "execution_count": null,
   "metadata": {},
   "outputs": [],
   "source": [
    "# Curve fitting\n",
    "\n",
    "def n_squared_model(x, a, b):\n",
    "    return a * x ** 2 + b\n",
    "\n",
    "params_worst_binary, _ = curve_fit(n_squared_model, array_sizes, worstBinary_times)"
   ]
  },
  {
   "cell_type": "markdown",
   "metadata": {},
   "source": [
    "## Plotting"
   ]
  },
  {
   "cell_type": "code",
   "execution_count": null,
   "metadata": {},
   "outputs": [],
   "source": [
    "fig, axs = plt.subplots(nrows=1, ncols=1, figsize= (7, 5))\n",
    "\n",
    "worstbinary = axs\n",
    "\n",
    "worstbinary.scatter(array_sizes, worstBinary_times, label= 'Quick Sort & Binary Times (Worst)', color= 'blue')\n",
    "worstbinary.plot(array_sizes, n_squared_model(np.array(array_sizes), *params_worst_binary), label= 'Quick Sort & Binary Search line (Worst)', color= 'blue')\n",
    "\n",
    "worstbinary.set_title('Plot of Quick Sort and Binary Search (Worst)')\n",
    "worstbinary.set_xlabel(\"Array Size\")\n",
    "worstbinary.set_ylabel(\"Time (seconds)\")\n",
    "\n",
    "worstbinary.legend()\n",
    "\n",
    "plt.tight_layout()\n",
    "plt.show()"
   ]
  },
  {
   "cell_type": "markdown",
   "metadata": {},
   "source": []
  }
 ],
 "metadata": {
  "kernelspec": {
   "display_name": "Python 3 (ipykernel)",
   "language": "python",
   "name": "python3"
  },
  "language_info": {
   "codemirror_mode": {
    "name": "ipython",
    "version": 3
   },
   "file_extension": ".py",
   "mimetype": "text/x-python",
   "name": "python",
   "nbconvert_exporter": "python",
   "pygments_lexer": "ipython3",
   "version": "3.11.5"
  }
 },
 "nbformat": 4,
 "nbformat_minor": 2
}
