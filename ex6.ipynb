{
 "cells": [
  {
   "cell_type": "code",
   "execution_count": null,
   "metadata": {},
   "outputs": [],
   "source": [
    "import random\n",
    "# Testing binary_search function\n",
    "arr = list(range(0,10))\n",
    "random.shuffle(arr)\n",
    "for i in arr:\n",
    "    print( i, end=\" \")\n",
    "\n",
    "#\n",
    "want_num = random.randint(0,10)\n",
    "\n",
    "\n",
    "           "
   ]
  },
  {
   "cell_type": "code",
   "execution_count": null,
   "metadata": {},
   "outputs": [],
   "source": [
    "# Test array\n",
    "arr = [ 2, 3, 4, 10, 40 ]\n",
    "x = 10\n",
    " \n",
    "# Function call\n",
    "result = binary_search(arr, 0, len(arr)-1, x)\n",
    " \n",
    "if result != -1:\n",
    "    print(\"Element is present at index\", str(result))\n",
    "else:\n",
    "    print(\"Element is not present in array\")"
   ]
  },
  {
   "cell_type": "code",
   "execution_count": null,
   "metadata": {},
   "outputs": [],
   "source": [
    "import matplotlib.pyplot as plt\n",
    "import random\n",
    "import time\n",
    "import numpy as np\n",
    "from scipy.optimize import curve_fit\n",
    "from statistics import mean"
   ]
  },
  {
   "cell_type": "markdown",
   "metadata": {},
   "source": [
    "# Linear Search"
   ]
  },
  {
   "cell_type": "code",
   "execution_count": 59,
   "metadata": {},
   "outputs": [],
   "source": [
    "def linear_search(arr, x):\n",
    "    for i in range(len(arr)):\n",
    "        if arr[i] == x:\n",
    "            return i\n",
    "    return -1"
   ]
  },
  {
   "cell_type": "markdown",
   "metadata": {},
   "source": [
    "## Binary Search"
   ]
  },
  {
   "cell_type": "code",
   "execution_count": 18,
   "metadata": {},
   "outputs": [],
   "source": [
    "def binary_search(arr, low, high, key):\n",
    " \n",
    "    # Check base case\n",
    "    if high >= low:\n",
    "        mid = (high + low) // 2\n",
    "        \n",
    "        # If element is present at the middle itself\n",
    "        if arr[mid] == key:\n",
    "            return mid\n",
    "        # be present in left subarray\n",
    "        elif arr[mid] > key:\n",
    "            return binary_search(arr, low, mid - 1, key)\n",
    "        else:\n",
    "            return binary_search(arr, mid + 1, high, key)\n",
    " \n",
    "    else:\n",
    "\n",
    "        return -1"
   ]
  },
  {
   "cell_type": "markdown",
   "metadata": {},
   "source": [
    "#### Testing Binary Search"
   ]
  },
  {
   "cell_type": "code",
   "execution_count": 34,
   "metadata": {},
   "outputs": [
    {
     "name": "stdout",
     "output_type": "stream",
     "text": [
      "0 2 5 4 7 1 9 6 8 3 \n",
      "index of 1 is -1\n"
     ]
    }
   ],
   "source": [
    "import random\n",
    "array = list(range(0,10))\n",
    "random.shuffle(array)\n",
    "\n",
    "for i in array:\n",
    "    print(i, end=\" \")\n",
    "\n",
    "key = random.randint(0,len(array)-1)\n",
    "index = binary_search(array, 0, len(array) - 1, key)\n",
    "# want to get the index of 7\n",
    "print(f\"\\nindex of {key} is {index}\")"
   ]
  },
  {
   "cell_type": "markdown",
   "metadata": {},
   "source": [
    "## Quick Sort"
   ]
  },
  {
   "cell_type": "code",
   "execution_count": 37,
   "metadata": {},
   "outputs": [],
   "source": [
    "def partition(array, low, high):\n",
    "    \n",
    "    pivot = array[high]\n",
    "    \n",
    "    i = low - 1\n",
    "\n",
    "    for j in range(low, high):\n",
    "        if array[j] <= pivot:\n",
    "\n",
    "            i = i + 1\n",
    " \n",
    "            (array[i], array[j]) = (array[j], array[i])\n",
    "\n",
    "    (array[i + 1], array[high]) = (array[high], array[i + 1])\n",
    " \n",
    "    return i + 1\n",
    "  \n",
    "def quickSort(array, low, high):\n",
    "    if low < high:\n",
    " \n",
    "        pi = partition(array, low, high)\n",
    " \n",
    "        quickSort(array, low, pi - 1)\n",
    "        \n",
    "        quickSort(array, pi + 1, high)\n"
   ]
  },
  {
   "cell_type": "markdown",
   "metadata": {},
   "source": [
    "#### Testing Quick Sort"
   ]
  },
  {
   "cell_type": "code",
   "execution_count": 47,
   "metadata": {},
   "outputs": [
    {
     "name": "stdout",
     "output_type": "stream",
     "text": [
      "Original Array:\n",
      "[16] [19] [14] [5] [2] [0] [8] [13] [9] [18] [17] [1] [4] [15] [6] [10] [12] [11] [7] [3] \n",
      "\n",
      "Sorted Array:\n",
      "[0] [1] [2] [3] [4] [5] [6] [7] [8] [9] [10] [11] [12] [13] [14] [15] [16] [17] [18] [19] "
     ]
    }
   ],
   "source": [
    "import random\n",
    "array = list(range(0,20))\n",
    "random.shuffle(array)\n",
    "\n",
    "print(\"Original Array:\")\n",
    "for i in array:\n",
    "    print(f'[{i}]', end=\" \")\n",
    "\n",
    "print(\"\\n\\nSorted Array:\")\n",
    "\n",
    "quickSort(array, 0, len(array) - 1)\n",
    "for i in array:\n",
    "    print(f'[{i}]', end=\" \")"
   ]
  },
  {
   "cell_type": "markdown",
   "metadata": {},
   "source": [
    "# Three Different Algorithms \n",
    "### (Linear Search) vs (QuickSort + Binary Search) vs (Worse Case QuickSort and Binary Search)"
   ]
  },
  {
   "cell_type": "code",
   "execution_count": 76,
   "metadata": {},
   "outputs": [],
   "source": [
    "\n",
    "from statistics import mean\n",
    "def linear_time(array_size, random_elements):\n",
    "    linear_times = []\n",
    "    # Creates an Array of Appropriate Size and Shuffles It\n",
    "    array = list(range(0,array_size))\n",
    "    random.shuffle(array)\n",
    "    \n",
    "    # Gets a list of times\n",
    "    for i in range(0, len(random_elements) - 1):\n",
    "        start = time.perf_counter()\n",
    "        linear_search(array, random_elements[i])\n",
    "        end = time.perf_counter()\n",
    "        linear_times.append(end - start)\n",
    "        random.shuffle(array)\n",
    "    return mean(linear_times)\n",
    "\n",
    "def quickBinarySearch(array_size, random_elements):\n",
    "    quickb_times = []\n",
    "    \n",
    "    # Creates an Array of Appropriate Size and Shuffles It\n",
    "    array = list(range(0,array_size))\n",
    "    random.shuffle(array)\n",
    "\n",
    "    for i in range(0, len(random_elements) - 1):\n",
    "        start = time.perf_counter()\n",
    "        binary_search(array, 0, len(array) - 1, random_elements[i])\n",
    "        end = time.perf_counter()\n",
    "        quickb_times.append(end - start)\n",
    "        random.shuffle(array)\n",
    "    return mean(quickb_times)\n",
    "\n",
    "def worstBinarySearch(array_size, random_elements):\n",
    "    worstb_times = []\n",
    "    \n",
    "    array = list(range(0, array_size))\n",
    "    array.reverse()\n",
    "    \n",
    "    for i in range(0, len(random_elements) - 1):\n",
    "        start = time.perf_counter()\n",
    "        binary_search(array, 0, len(array) - 1, random_elements[i])\n",
    "        end = time.perf_counter()\n",
    "        worstb_times.append(end - start)\n",
    "        random.shuffle(array)\n",
    "    return mean(worstb_times)\n",
    "    "
   ]
  },
  {
   "cell_type": "code",
   "execution_count": 68,
   "metadata": {},
   "outputs": [
    {
     "data": {
      "text/plain": [
       "[99,\n",
       " 98,\n",
       " 97,\n",
       " 96,\n",
       " 95,\n",
       " 94,\n",
       " 93,\n",
       " 92,\n",
       " 91,\n",
       " 90,\n",
       " 89,\n",
       " 88,\n",
       " 87,\n",
       " 86,\n",
       " 85,\n",
       " 84,\n",
       " 83,\n",
       " 82,\n",
       " 81,\n",
       " 80,\n",
       " 79,\n",
       " 78,\n",
       " 77,\n",
       " 76,\n",
       " 75,\n",
       " 74,\n",
       " 73,\n",
       " 72,\n",
       " 71,\n",
       " 70,\n",
       " 69,\n",
       " 68,\n",
       " 67,\n",
       " 66,\n",
       " 65,\n",
       " 64,\n",
       " 63,\n",
       " 62,\n",
       " 61,\n",
       " 60,\n",
       " 59,\n",
       " 58,\n",
       " 57,\n",
       " 56,\n",
       " 55,\n",
       " 54,\n",
       " 53,\n",
       " 52,\n",
       " 51,\n",
       " 50,\n",
       " 49,\n",
       " 48,\n",
       " 47,\n",
       " 46,\n",
       " 45,\n",
       " 44,\n",
       " 43,\n",
       " 42,\n",
       " 41,\n",
       " 40,\n",
       " 39,\n",
       " 38,\n",
       " 37,\n",
       " 36,\n",
       " 35,\n",
       " 34,\n",
       " 33,\n",
       " 32,\n",
       " 31,\n",
       " 30,\n",
       " 29,\n",
       " 28,\n",
       " 27,\n",
       " 26,\n",
       " 25,\n",
       " 24,\n",
       " 23,\n",
       " 22,\n",
       " 21,\n",
       " 20,\n",
       " 19,\n",
       " 18,\n",
       " 17,\n",
       " 16,\n",
       " 15,\n",
       " 14,\n",
       " 13,\n",
       " 12,\n",
       " 11,\n",
       " 10,\n",
       " 9,\n",
       " 8,\n",
       " 7,\n",
       " 6,\n",
       " 5,\n",
       " 4,\n",
       " 3,\n",
       " 2,\n",
       " 1,\n",
       " 0]"
      ]
     },
     "execution_count": 68,
     "metadata": {},
     "output_type": "execute_result"
    }
   ],
   "source": [
    "array = list(range(0, 100))\n",
    "array.reverse()\n",
    "array"
   ]
  },
  {
   "cell_type": "markdown",
   "metadata": {},
   "source": [
    "# 100 Random Tasks"
   ]
  },
  {
   "cell_type": "code",
   "execution_count": 69,
   "metadata": {},
   "outputs": [],
   "source": [
    "import random\n",
    "import time\n",
    "\n",
    "# random_elements is a list of 10 elements which can have values from 0 to 99\n",
    "random_elements = random.sample(range(0,100), 10)\n",
    "\n",
    "array_sizes = [10, 20, 50, 100, 200, 500, 1000, 2000, 5000, 10000]\n",
    "\n",
    "linearSearch_times = []\n",
    "\n",
    "quickBinary_times = []\n",
    "\n",
    "for i in array_sizes:\n",
    "    linearSearch_times.append(linear_time(i, random_elements))\n",
    "\n",
    "for i in array_sizes:\n",
    "    quickBinary_times.append(quickBinarySearch(i, random_elements))"
   ]
  },
  {
   "cell_type": "code",
   "execution_count": 70,
   "metadata": {},
   "outputs": [
    {
     "data": {
      "text/plain": [
       "[82, 87, 86, 60, 81, 67, 4, 68, 61, 47]"
      ]
     },
     "execution_count": 70,
     "metadata": {},
     "output_type": "execute_result"
    }
   ],
   "source": [
    "random_elements"
   ]
  },
  {
   "cell_type": "code",
   "execution_count": 71,
   "metadata": {},
   "outputs": [
    {
     "data": {
      "text/plain": [
       "[2.933333437087842e-06,\n",
       " 4.255555217645855e-06,\n",
       " 9.6666671096399e-06,\n",
       " 1.118888839199725e-05,\n",
       " 1.3155555481918984e-05,\n",
       " 4.22888887341186e-05,\n",
       " 8.23000001320098e-05,\n",
       " 0.00018408888839379264,\n",
       " 0.0003433999999187007,\n",
       " 0.0010167777775980842]"
      ]
     },
     "execution_count": 71,
     "metadata": {},
     "output_type": "execute_result"
    }
   ],
   "source": [
    "linearSearch_times"
   ]
  },
  {
   "cell_type": "code",
   "execution_count": 72,
   "metadata": {},
   "outputs": [
    {
     "data": {
      "text/plain": [
       "[5.1111120329652395e-06,\n",
       " 5.788888908379401e-06,\n",
       " 7.611111666645027e-06,\n",
       " 8.033333870116621e-06,\n",
       " 8.888889068556535e-06,\n",
       " 9.46666679940083e-06,\n",
       " 1.1755555735564687e-05,\n",
       " 1.2288889491982343e-05,\n",
       " 1.6566666292621652e-05,\n",
       " 2.1388889662274676e-05]"
      ]
     },
     "execution_count": 72,
     "metadata": {},
     "output_type": "execute_result"
    }
   ],
   "source": [
    "quickBinary_times"
   ]
  },
  {
   "cell_type": "markdown",
   "metadata": {},
   "source": [
    "## Question 5, Worst Case for QuickSort"
   ]
  },
  {
   "cell_type": "code",
   "execution_count": 77,
   "metadata": {},
   "outputs": [
    {
     "data": {
      "text/plain": [
       "[5.5222218280606385e-06,\n",
       " 6.288888673427411e-06,\n",
       " 6.888888391485024e-06,\n",
       " 8.288888946279056e-06,\n",
       " 8.299999737775781e-06,\n",
       " 9.7666658499899e-06,\n",
       " 1.1544444229609022e-05,\n",
       " 1.3811110774339693e-05,\n",
       " 2.0422222102448966e-05,\n",
       " 2.1444444023978172e-05]"
      ]
     },
     "execution_count": 77,
     "metadata": {},
     "output_type": "execute_result"
    }
   ],
   "source": [
    "import random\n",
    "import time\n",
    "\n",
    "# random_elements is a list of 10 elements which can have values from 0 to 99\n",
    "random_elements = random.sample(range(0,100), 10)\n",
    "\n",
    "array_sizes = [10, 20, 50, 100, 200, 500, 1000, 2000, 5000, 10000]\n",
    "\n",
    "worstBinary_times = []\n",
    "\n",
    "for i in array_sizes:\n",
    "    worstBinary_times.append(worstBinarySearch(i, random_elements))\n",
    "\n",
    "worstBinary_times"
   ]
  },
  {
   "cell_type": "markdown",
   "metadata": {},
   "source": [
    "## Quick Sort"
   ]
  },
  {
   "cell_type": "code",
   "execution_count": null,
   "metadata": {},
   "outputs": [],
   "source": [
    "import random\n",
    "# random_elements is a list of 10 elements which can have values from 0 to 99\n",
    "random_elements = random.sample(range(0,100), 10)\n",
    "\n",
    "arrays = []"
   ]
  },
  {
   "cell_type": "markdown",
   "metadata": {},
   "source": [
    "## Binary Search"
   ]
  },
  {
   "cell_type": "code",
   "execution_count": null,
   "metadata": {},
   "outputs": [],
   "source": []
  },
  {
   "cell_type": "markdown",
   "metadata": {},
   "source": [
    "## Quick Sort"
   ]
  },
  {
   "cell_type": "code",
   "execution_count": null,
   "metadata": {},
   "outputs": [],
   "source": []
  }
 ],
 "metadata": {
  "kernelspec": {
   "display_name": "Python 3 (ipykernel)",
   "language": "python",
   "name": "python3"
  },
  "language_info": {
   "codemirror_mode": {
    "name": "ipython",
    "version": 3
   },
   "file_extension": ".py",
   "mimetype": "text/x-python",
   "name": "python",
   "nbconvert_exporter": "python",
   "pygments_lexer": "ipython3",
   "version": "3.10.7"
  }
 },
 "nbformat": 4,
 "nbformat_minor": 2
}
