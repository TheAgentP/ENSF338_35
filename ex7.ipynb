{
 "cells": [
  {
   "cell_type": "code",
   "execution_count": 23,
   "metadata": {},
   "outputs": [
    {
     "ename": "KeyboardInterrupt",
     "evalue": "",
     "output_type": "error",
     "traceback": [
      "\u001b[1;31m---------------------------------------------------------------------------\u001b[0m",
      "\u001b[1;31mKeyboardInterrupt\u001b[0m                         Traceback (most recent call last)",
      "Cell \u001b[1;32mIn[23], line 30\u001b[0m\n\u001b[0;32m     28\u001b[0m result \u001b[38;5;241m=\u001b[39m {}\n\u001b[0;32m     29\u001b[0m \u001b[38;5;28;01mfor\u001b[39;00m searchnum \u001b[38;5;129;01min\u001b[39;00m taskdata:\n\u001b[1;32m---> 30\u001b[0m     index \u001b[38;5;241m=\u001b[39m binary_search(data, searchnum)\n\u001b[0;32m     31\u001b[0m     result[searchnum] \u001b[38;5;241m=\u001b[39m index\n\u001b[0;32m     33\u001b[0m \u001b[38;5;28;01mfor\u001b[39;00m searchnum, main_find \u001b[38;5;129;01min\u001b[39;00m result\u001b[38;5;241m.\u001b[39mitems():\n",
      "Cell \u001b[1;32mIn[23], line 10\u001b[0m, in \u001b[0;36mbinary_search\u001b[1;34m(d_l, t)\u001b[0m\n\u001b[0;32m      6\u001b[0m low \u001b[38;5;241m=\u001b[39m \u001b[38;5;241m0\u001b[39m\n\u001b[0;32m      7\u001b[0m high \u001b[38;5;241m=\u001b[39m \u001b[38;5;28mlen\u001b[39m(d_l) \u001b[38;5;241m-\u001b[39m \u001b[38;5;241m1\u001b[39m\n\u001b[1;32m---> 10\u001b[0m \u001b[38;5;28;01mwhile\u001b[39;00m low \u001b[38;5;241m<\u001b[39m\u001b[38;5;241m=\u001b[39m high:\n\u001b[0;32m     11\u001b[0m     midpoint \u001b[38;5;241m=\u001b[39m (low \u001b[38;5;241m+\u001b[39m high) \u001b[38;5;241m/\u001b[39m\u001b[38;5;241m/\u001b[39m \u001b[38;5;241m2\u001b[39m\n\u001b[0;32m     12\u001b[0m     mid_num \u001b[38;5;241m=\u001b[39m d_l[midpoint]\n",
      "\u001b[1;31mKeyboardInterrupt\u001b[0m: "
     ]
    }
   ],
   "source": [
    "import json\n",
    "\n",
    "\n",
    "\n",
    "def binary_search (d_l, t):\n",
    "    low = 0\n",
    "    high = len(d_l) - 1\n",
    "\n",
    "\n",
    "    while low <= high:\n",
    "        midpoint = (low + high) // 2\n",
    "        mid_num = d_l[midpoint]\n",
    "\n",
    "        if mid_num == t:\n",
    "            return mid_num\n",
    "        elif mid_num < t:\n",
    "            low = mid_num + 1\n",
    "        else:\n",
    "            high = mid_num - 1\n",
    "\n",
    "with open('ex7data.json', 'r' ) as datafile:\n",
    "    data = json.load(datafile)\n",
    "\n",
    "with open('ex7tasks.json', 'r' ) as taskfile:\n",
    "    taskdata = json.load(taskfile)\n",
    "\n",
    "\n",
    "result = {}\n",
    "for searchnum in taskdata:\n",
    "    index = binary_search(data, searchnum)\n",
    "    result[searchnum] = index\n",
    "\n",
    "for searchnum, main_find in result.items():\n",
    "    if index != -1:\n",
    "        print (f'Task Number {searchnum} found')        \n",
    "    else:\n",
    "        print (f'{searchnum} Not Found')\n",
    "\n",
    "\n"
   ]
  },
  {
   "cell_type": "markdown",
   "metadata": {},
   "source": [
    "## "
   ]
  }
 ],
 "metadata": {
  "kernelspec": {
   "display_name": "base",
   "language": "python",
   "name": "python3"
  },
  "language_info": {
   "codemirror_mode": {
    "name": "ipython",
    "version": 3
   },
   "file_extension": ".py",
   "mimetype": "text/x-python",
   "name": "python",
   "nbconvert_exporter": "python",
   "pygments_lexer": "ipython3",
   "version": "3.11.5"
  }
 },
 "nbformat": 4,
 "nbformat_minor": 2
}
