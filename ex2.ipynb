{
 "cells": [
  {
   "cell_type": "code",
   "execution_count": 60,
   "metadata": {},
   "outputs": [],
   "source": [
    "import sys\n",
    "sys.setrecursionlimit(200_000_000)\n",
    "\n",
    "import time\n",
    "import random"
   ]
  },
  {
   "cell_type": "markdown",
   "metadata": {},
   "source": [
    "## Bubble Sort"
   ]
  },
  {
   "cell_type": "code",
   "execution_count": 62,
   "metadata": {},
   "outputs": [],
   "source": [
    "# Bubble Sort Implementation\n",
    "\n",
    "def bubbleSort(arr):\n",
    "    n = len(arr)\n",
    "    for i in range(n):\n",
    "        for j in range(0, n - i - 1):\n",
    "            if arr[j] > arr[j + 1]:\n",
    "                temp = arr[j]\n",
    "                arr[j] = arr[j + 1]\n",
    "                arr[j + 1] = temp"
   ]
  },
  {
   "cell_type": "code",
   "execution_count": 23,
   "metadata": {},
   "outputs": [
    {
     "data": {
      "text/plain": [
       "[4, 9, 13, 3, 1, 6, 7, 12, 10, 2, 8, 15, 11, 14, 5, 16]"
      ]
     },
     "execution_count": 23,
     "metadata": {},
     "output_type": "execute_result"
    }
   ],
   "source": [
    "a = [1, 2, 3, 4, 5, 6, 7, 8, 9, 10, 11, 12, 13, 14, 15, 16]\n",
    "random.shuffle(a)\n",
    "a"
   ]
  },
  {
   "cell_type": "code",
   "execution_count": 24,
   "metadata": {},
   "outputs": [
    {
     "data": {
      "text/plain": [
       "[1, 2, 3, 4, 5, 6, 7, 8, 9, 10, 11, 12, 13, 14, 15, 16]"
      ]
     },
     "execution_count": 24,
     "metadata": {},
     "output_type": "execute_result"
    }
   ],
   "source": [
    "bubble_sort(a)\n",
    "a"
   ]
  },
  {
   "cell_type": "markdown",
   "metadata": {},
   "source": [
    "## Quick Sort"
   ]
  },
  {
   "cell_type": "code",
   "execution_count": 71,
   "metadata": {},
   "outputs": [
    {
     "name": "stdout",
     "output_type": "stream",
     "text": [
      "[1, 2, 3, 4, 5, 6, 7, 8, 9]\n"
     ]
    }
   ],
   "source": [
    "# Quick Sort Implementation\n",
    "\n",
    "def quickSort(arr, low, high):\n",
    "    if low < high:\n",
    "        pivot_index = partition(arr, low, high)\n",
    "        quicksort(arr, low, pivot_index)\n",
    "        quicksort(arr, pivot_index + 1, high)\n",
    "\n",
    "def partition(arr, low, high):\n",
    "\n",
    "    pivot = arr[low]\n",
    "    left = low + 1\n",
    "    right = high\n",
    "    done = False\n",
    "    while not done:\n",
    "        while left <= right and arr[left] <= pivot:\n",
    "            left = left + 1\n",
    "        while arr[right] >= pivot and right >= left:\n",
    "            right = right - 1\n",
    "        if right < left:\n",
    "            done = True\n",
    "        else:\n",
    "            arr[left], arr[right] = arr[right], arr[left]\n",
    "\n",
    "    arr[low], arr[right] = arr[right], arr[low]\n",
    "    return right\n",
    "\n",
    "arr = [5, 2, 4, 1, 3, 7, 6, 9, 8]\n",
    "quickSort(arr, 0, len(arr) - 1)\n",
    "print(arr)"
   ]
  },
  {
   "cell_type": "code",
   "execution_count": null,
   "metadata": {},
   "outputs": [],
   "source": []
  },
  {
   "cell_type": "code",
   "execution_count": 57,
   "metadata": {},
   "outputs": [
    {
     "data": {
      "text/plain": [
       "[10, 6, 15, 2, 13, 4, 3, 8, 11, 12, 5, 7, 9, 16, 1, 14]"
      ]
     },
     "execution_count": 57,
     "metadata": {},
     "output_type": "execute_result"
    }
   ],
   "source": [
    "a = [1, 2, 3, 4, 5, 6, 7, 8, 9, 10, 11, 12, 13, 14, 15, 16]\n",
    "random.shuffle(a)\n",
    "a"
   ]
  },
  {
   "cell_type": "code",
   "execution_count": 58,
   "metadata": {},
   "outputs": [
    {
     "data": {
      "text/plain": [
       "[1, 2, 3, 4, 5, 6, 7, 8, 9, 10, 11, 12, 13, 14, 15, 16]"
      ]
     },
     "execution_count": 58,
     "metadata": {},
     "output_type": "execute_result"
    }
   ],
   "source": [
    "quicksort(a, 0, (len(a) - 1))\n",
    "a"
   ]
  },
  {
   "cell_type": "markdown",
   "metadata": {},
   "source": [
    "## Creating 20 Arrays"
   ]
  },
  {
   "cell_type": "code",
   "execution_count": 59,
   "metadata": {},
   "outputs": [
    {
     "data": {
      "text/plain": [
       "[0,\n",
       " 1,\n",
       " 4,\n",
       " 9,\n",
       " 16,\n",
       " 25,\n",
       " 36,\n",
       " 49,\n",
       " 64,\n",
       " 81,\n",
       " 100,\n",
       " 121,\n",
       " 144,\n",
       " 169,\n",
       " 196,\n",
       " 225,\n",
       " 256,\n",
       " 289,\n",
       " 324,\n",
       " 361]"
      ]
     },
     "execution_count": 59,
     "metadata": {},
     "output_type": "execute_result"
    }
   ],
   "source": [
    "# Finding decent array sizes that scale decently\n",
    "\n",
    "array_sizes = [i ** 2 for i in range(20)]\n",
    "array_sizes"
   ]
  },
  {
   "cell_type": "markdown",
   "metadata": {},
   "source": [
    "## Measuring Bubble Sort"
   ]
  },
  {
   "cell_type": "code",
   "execution_count": null,
   "metadata": {},
   "outputs": [],
   "source": [
    "def measureAverageBubbleSort(array_size):\n",
    "    \n",
    "    array = [i for i in range(1, array_size + 1)]\n",
    "    random.shuffle(array) # Shuffling the array\n",
    "\n",
    "    start = time.perf_counter()\n",
    "    bubble_sort(array)\n",
    "    stop = time.perf_counter()\n",
    "    avg_time = stop - start\n",
    "\n",
    "    return avg_time\n",
    "\n",
    "def measureBestBubbleSort(array_size):\n",
    "\n",
    "    array = [i for i in range(1, array_size + 1)]\n",
    "    start = time.perf_counter()\n",
    "    bubble_sort(array)\n",
    "    stop = time.perf_counter()\n",
    "    avg_time = stop - start\n",
    "    # DEBUG\n",
    "    print(f\"For an array size of {array_size}, best bubble_sort takes {avg_time} seconds\")\n",
    "    print(array)\n",
    "\n",
    "    return avg_time\n",
    "\n",
    "def measureWorstBubbleSort(array_size):\n",
    "\n",
    "    array = [array_size - i - 1 for i in range(array_size)]\n",
    "    start = time.perf_counter()\n",
    "    bubble_sort(array)\n",
    "    stop = time.perf_counter()\n",
    "    avg_time = stop - start\n",
    "    # DEBUG\n",
    "    print(f\"For an array size of {array_size}, worst bubble_sort takes {avg_time} seconds\")\n",
    "    print(array)\n",
    "\n",
    "    return avg_time"
   ]
  },
  {
   "cell_type": "code",
   "execution_count": null,
   "metadata": {},
   "outputs": [],
   "source": [
    "bubble_best_times = []\n",
    "for size in array_sizes:\n",
    "    bubble_best_times.append(measureBestBubbleSort(size))\n",
    "\n",
    "bubble_average_times = []\n",
    "for size in array_sizes:\n",
    "    bubble_average_times.append(measureAverageBubbleSort(size))\n",
    "\n",
    "bubble_worst_times = []\n",
    "for size in array_sizes:\n",
    "    bubble_worst_times.append(measureWorstBubbleSort(size))"
   ]
  },
  {
   "cell_type": "markdown",
   "metadata": {},
   "source": [
    "## Measuring Quick Sort"
   ]
  },
  {
   "cell_type": "code",
   "execution_count": null,
   "metadata": {},
   "outputs": [],
   "source": [
    "import time\n",
    "import random\n",
    "\n",
    "def measureBestQuickSort(array_size):\n",
    "    \n",
    "    # Choose the middle number\n",
    "    array = [random.randint(0, array_size) for _ in range(array_size)]\n",
    "    start = time.perf_counter()\n",
    "    quicksort(array, 0, array_size - 1, 'best')\n",
    "    stop = time.perf_counter()\n",
    "    avg_time = stop - start\n",
    "    # DEBUG\n",
    "    print(f\"For an array size of {array_size}, avearge quick_sort takes {avg_time} seconds\")\n",
    "    print(array)\n",
    "    \n",
    "\n",
    "def measureAverageQuickSort(array_size):\n",
    "\n",
    "    array = [random.randint(0, array_size) for _ in range(array_size)]\n",
    "    start = time.perf_counter()\n",
    "    quicksort(array, 0, array_size - 1, 'average')\n",
    "    stop = time.perf_counter()\n",
    "    avg_time = stop - start\n",
    "    # DEBUG\n",
    "    print(f\"For an array size of {array_size}, avearge quick_sort takes {avg_time} seconds\")\n",
    "    print(array)\n",
    "\n",
    "def measureWorstQuickSort(array_size):\n",
    "\n",
    "    array = [random.randint(0, array_size) for _ in range(array_size)]\n",
    "    start = time.perf_counter()\n",
    "    quicksort(array, 0, array_size - 1, 'worst')\n",
    "    stop = time.perf_counter()\n",
    "    avg_time = stop - start\n",
    "    # DEBUG\n",
    "    print(f\"For an array size of {array_size}, avearge quick_sort takes {avg_time} seconds\")\n",
    "    print(array)\n"
   ]
  },
  {
   "cell_type": "code",
   "execution_count": null,
   "metadata": {},
   "outputs": [],
   "source": [
    "quick_best_times = []\n",
    "for size in array_sizes:\n",
    "    quick_best_times.append(measureBestQuickSort(size))\n",
    "\n",
    "# quick_average_times = []\n",
    "# for size in array_sizes:\n",
    "#     quick_average_times.append(measureBestQuickSort(size))\n",
    "\n",
    "# quick_worst_times = []\n",
    "# for size in array_sizes:\n",
    "#     quick_worst_times.append(measureBestQuickSort(size))"
   ]
  },
  {
   "cell_type": "code",
   "execution_count": null,
   "metadata": {},
   "outputs": [],
   "source": []
  },
  {
   "cell_type": "markdown",
   "metadata": {},
   "source": [
    "## Curve fitting Bubble Sort"
   ]
  },
  {
   "cell_type": "code",
   "execution_count": null,
   "metadata": {},
   "outputs": [],
   "source": [
    "import numpy as np\n",
    "from scipy.optimize import curve_fit\n",
    "\n",
    "def quadratic_model(x, a, b):\n",
    "    return a * x ** 2 + b\n",
    "\n",
    "params_bubble_average, _ = curve_fit(quadratic_model, array_sizes, bubble_average_times)\n",
    "params_bubble_worst, _ = curve_fit(quadratic_model, array_sizes, bubble_worst_times)\n",
    "params_bubble_best, _ = curve_fit(quadratic_model, array_sizes, bubble_best_times)\n"
   ]
  },
  {
   "cell_type": "markdown",
   "metadata": {},
   "source": [
    "## Curve Fitting Quick Sort"
   ]
  },
  {
   "cell_type": "code",
   "execution_count": null,
   "metadata": {},
   "outputs": [],
   "source": []
  },
  {
   "cell_type": "markdown",
   "metadata": {},
   "source": [
    "## Plotting"
   ]
  },
  {
   "cell_type": "code",
   "execution_count": null,
   "metadata": {},
   "outputs": [],
   "source": [
    "import matplotlib.pyplot as plt\n",
    "\n",
    "fig, axs = plt.subplots(nrows=2, ncols=3, figsize= (15, 5))\n",
    "\n",
    "bubble_best = axs[0, 0]\n",
    "bubble_average = axs[0, 1]\n",
    "bubble_worst = axs[0, 2]\n",
    "\n",
    "# quicksort = axs[1]\n",
    "\n",
    "# bubble sort Plot\n",
    "bubble_best.scatter(array_sizes, bubble_best_times, label='Measured Times')\n",
    "bubble_best.plot(array_sizes, quadratic_model(np.array(array_sizes), *params_bubble_best), label='Fitted Line', color='red')\n",
    "\n",
    "bubble_average.scatter(array_sizes, bubble_average_times, label='Measured Times')\n",
    "bubble_average.plot(array_sizes, quadratic_model(np.array(array_sizes), *params_bubble_average), label='Fitted Line', color='blue')\n",
    "\n",
    "bubble_worst.scatter(array_sizes, bubble_worst_times, label='Measured Times')\n",
    "bubble_worst.plot(array_sizes, quadratic_model(np.array(array_sizes), *params_bubble_worst), label='Fitted Line', color='green')\n",
    "\n",
    "bubble_best.set_title('Bubble Sort Best Case Performance')\n",
    "bubble_average.set_title(\"Bubble Sort Average Case Performance\")\n",
    "bubble_worst.set_title(\"Bubble Sort Worst Case Performance\")\n",
    "\n",
    "bubble_best.set_xlabel(\"Array Size\")\n",
    "bubble_average.set_xlabel(\"Array Size\")\n",
    "bubble_worst.set_xlabel(\"Array Size\")\n",
    "\n",
    "bubble_best.set_ylabel(\"Time (seconds)\")\n",
    "bubble_average.set_ylabel(\"Time (seconds)\")\n",
    "bubble_worst.set_ylabel(\"Time (seconds)\")\n",
    "\n",
    "bubble_best.legend()\n",
    "bubble_average.legend()\n",
    "bubble_worst.legend()\n",
    "\n",
    "# binary.legend()\n",
    "\n",
    "plt.tight_layout()\n",
    "plt.show()"
   ]
  },
  {
   "cell_type": "markdown",
   "metadata": {},
   "source": [
    "## Extra: Python Visualization of Quick Sort"
   ]
  },
  {
   "cell_type": "code",
   "execution_count": null,
   "metadata": {},
   "outputs": [],
   "source": [
    "# Python implementation of the \n",
    "# Sorting visualiser: Quick Sort\n",
    "\n",
    "# Imports\n",
    "import pygame\n",
    "import random\n",
    "pygame.font.init()\n",
    "\n",
    "# Total window\n",
    "screen = pygame.display.set_mode(\n",
    "\t\t\t(900, 650)\n",
    "\t\t)\n",
    "\n",
    "# Title and Icon \n",
    "pygame.display.set_caption(\"SORTING VISUALISER\")\n",
    "\n",
    "# Uncomment below lines for setting \n",
    "# up the icon for the visuliser\n",
    "# img = pygame.image.load('sort_icon.png')\n",
    "# pygame.display.set_icon(img)\n",
    "\n",
    "# Boolean variable to run \n",
    "# the program in while loop\n",
    "run = True\n",
    "\n",
    "# Window size and some initials\n",
    "width = 900\n",
    "length = 600\n",
    "array =[0]*151\n",
    "arr_clr =[(0, 204, 102)]*151\n",
    "clr_ind = 0\n",
    "clr =[(0, 204, 102), (255, 0, 0),\\\n",
    "\t(0, 0, 153), (255, 102, 0)]\n",
    "fnt = pygame.font.SysFont(\"comicsans\", 30)\n",
    "fnt1 = pygame.font.SysFont(\"comicsans\", 20)\n",
    "\n",
    "\n",
    "# Function to generate new Array\n",
    "def generate_arr():\n",
    "\tfor i in range(1, 151):\n",
    "\t\tarr_clr[i]= clr[0]\n",
    "\t\tarray[i]= random.randrange(1, 100)\n",
    "\t\t\n",
    "# Initially generate a array\n",
    "generate_arr() \n",
    "\n",
    "# Function to refill the \n",
    "# updates on the window\n",
    "def refill():\n",
    "\tscreen.fill((255, 255, 255))\n",
    "\tdraw()\n",
    "\tpygame.display.update()\n",
    "\tpygame.time.delay(30)\n",
    "\t\n",
    "# Sorting Algo:Quick sort\n",
    "def quicksort(array, l, r):\n",
    "\tif l<r:\n",
    "\t\tpi = partition(array, l, r)\n",
    "\t\tquicksort(array, l, pi-1)\n",
    "\t\trefill()\n",
    "\t\tfor i in range(0, pi + 1):\n",
    "\t\t\tarr_clr[i]= clr[3]\n",
    "\t\tquicksort(array, pi + 1, r)\n",
    "\t\t\n",
    "# Function to partition the array\n",
    "def partition(array, low, high):\n",
    "\tpygame.event.pump() \n",
    "\tpivot = array[high]\n",
    "\tarr_clr[high]= clr[2]\n",
    "\ti = low-1\n",
    "\tfor j in range(low, high):\n",
    "\t\tarr_clr[j]= clr[1]\n",
    "\t\trefill()\n",
    "\t\tarr_clr[high]= clr[2]\n",
    "\t\tarr_clr[j]= clr[0]\n",
    "\t\tarr_clr[i]= clr[0]\n",
    "\t\tif array[j]<pivot:\n",
    "\t\t\ti = i + 1\n",
    "\t\t\tarr_clr[i]= clr[1]\n",
    "\t\t\tarray[i], array[j]= array[j], array[i]\n",
    "\trefill()\n",
    "\tarr_clr[i]= clr[0]\n",
    "\tarr_clr[high]= clr[0]\n",
    "\tarray[i + 1], array[high] = array[high], array[i + 1] \n",
    "\t\n",
    "\treturn ( i + 1 )\n",
    "\t\n",
    "# Function to Draw the \n",
    "# array values\n",
    "def draw():\n",
    "\t# Text should be rendered\n",
    "\ttxt = fnt.render(\"SORT : PRESS 'ENTER'\",\\\n",
    "\t\t\t\t\t1, (0, 0, 0))\n",
    "\t\n",
    "\t# Position where text is placed\n",
    "\tscreen.blit(txt, (20, 20))\n",
    "\ttxt1 = fnt.render(\"NEW ARRAY : PRESS 'R'\",\\\n",
    "\t\t\t\t\t1, (0, 0, 0))\n",
    "\tscreen.blit(txt1, (20, 40))\n",
    "\ttxt2 = fnt1.render(\"ALGORITHM USED: QUICK SORT\",\\\n",
    "\t\t\t\t\t1, (0, 0, 0))\n",
    "\tscreen.blit(txt2, (600, 60))\n",
    "\telement_width =(width-150)//150\n",
    "\tboundry_arr = 900 / 150\n",
    "\tboundry_grp = 550 / 100\n",
    "\tpygame.draw.line(screen, (0, 0, 0),\\\n",
    "\t\t\t\t(0, 95), (900, 95), 6)\n",
    "\t\n",
    "\t# Drawing the array values as lines\n",
    "\tfor i in range(1, 151):\n",
    "\t\tpygame.draw.line(screen,\\\n",
    "\t\t\t\tarr_clr[i], (boundry_arr * i-3, 100),\\\n",
    "\t\t\t\t(boundry_arr * i-3,\\\n",
    "\t\t\t\tarray[i]*boundry_grp + 100),\\\n",
    "\t\t\t\telement_width)\n",
    "\t\t\t\t\n",
    "# Program should be run\n",
    "# continuously to keep the window open\n",
    "while run:\n",
    "\t# background\n",
    "\tscreen.fill((255, 255, 255))\n",
    "\t\n",
    "\t# Event handler stores all event \n",
    "\tfor event in pygame.event.get():\n",
    "\t\t\n",
    "\t\t# If we click Close button in window\n",
    "\t\tif event.type == pygame.QUIT:\n",
    "\t\t\trun = False\n",
    "\t\tif event.type == pygame.KEYDOWN:\n",
    "\t\t\tif event.key == pygame.K_r:\n",
    "\t\t\t\tgenerate_arr() \n",
    "\t\t\tif event.key == pygame.K_RETURN:\n",
    "\t\t\t\tquicksort(array, 1, len(array)-1)\t \n",
    "\tdraw()\n",
    "\tpygame.display.update()\n",
    "\t\n",
    "pygame.quit()\n"
   ]
  }
 ],
 "metadata": {
  "kernelspec": {
   "display_name": "base",
   "language": "python",
   "name": "python3"
  },
  "language_info": {
   "codemirror_mode": {
    "name": "ipython",
    "version": 3
   },
   "file_extension": ".py",
   "mimetype": "text/x-python",
   "name": "python",
   "nbconvert_exporter": "python",
   "pygments_lexer": "ipython3",
   "version": "3.11.5"
  }
 },
 "nbformat": 4,
 "nbformat_minor": 2
}
